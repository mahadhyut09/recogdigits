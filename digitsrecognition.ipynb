{
  "cells": [
    {
      "cell_type": "markdown",
      "metadata": {
        "id": "view-in-github",
        "colab_type": "text"
      },
      "source": [
        "<a href=\"https://colab.research.google.com/github/mahadhyut09/recogdigits/blob/main/digitsrecognition.ipynb\" target=\"_parent\"><img src=\"https://colab.research.google.com/assets/colab-badge.svg\" alt=\"Open In Colab\"/></a>"
      ]
    },
    {
      "cell_type": "code",
      "execution_count": null,
      "metadata": {
        "id": "6yQw7NK8KRcG"
      },
      "outputs": [],
      "source": [
        "%matplotlib inline\n",
        "import matplotlib.pyplot as plt\n",
        "from sklearn.datasets import load_digits"
      ]
    },
    {
      "cell_type": "code",
      "execution_count": null,
      "metadata": {
        "id": "xfac7JrLruz_"
      },
      "outputs": [],
      "source": [
        "dig=load_digits()"
      ]
    },
    {
      "cell_type": "code",
      "execution_count": null,
      "metadata": {
        "colab": {
          "base_uri": "https://localhost:8080/"
        },
        "id": "0jlHRohhr1I9",
        "outputId": "dfb269d7-b92c-4b80-bf78-9caf8bb7f01e"
      },
      "outputs": [
        {
          "output_type": "execute_result",
          "data": {
            "text/plain": [
              "['DESCR', 'data', 'feature_names', 'frame', 'images', 'target', 'target_names']"
            ]
          },
          "metadata": {},
          "execution_count": 3
        }
      ],
      "source": [
        "dir(dig)"
      ]
    },
    {
      "cell_type": "code",
      "execution_count": null,
      "metadata": {
        "colab": {
          "base_uri": "https://localhost:8080/"
        },
        "id": "45Cv7peDsf8R",
        "outputId": "c159b5ee-20dd-43dc-aa23-c420d788344e"
      },
      "outputs": [
        {
          "output_type": "execute_result",
          "data": {
            "text/plain": [
              "array([ 0.,  0.,  5., 13.,  9.,  1.,  0.,  0.,  0.,  0., 13., 15., 10.,\n",
              "       15.,  5.,  0.,  0.,  3., 15.,  2.,  0., 11.,  8.,  0.,  0.,  4.,\n",
              "       12.,  0.,  0.,  8.,  8.,  0.,  0.,  5.,  8.,  0.,  0.,  9.,  8.,\n",
              "        0.,  0.,  4., 11.,  0.,  1., 12.,  7.,  0.,  0.,  2., 14.,  5.,\n",
              "       10., 12.,  0.,  0.,  0.,  0.,  6., 13., 10.,  0.,  0.,  0.])"
            ]
          },
          "metadata": {},
          "execution_count": 4
        }
      ],
      "source": [
        "dig.data[0]"
      ]
    },
    {
      "cell_type": "code",
      "execution_count": null,
      "metadata": {
        "colab": {
          "base_uri": "https://localhost:8080/",
          "height": 1000
        },
        "id": "ULpSkjZxKIcC",
        "outputId": "e09ec8e7-4725-40a5-cb71-78df4a83d617"
      },
      "outputs": [
        {
          "output_type": "display_data",
          "data": {
            "text/plain": [
              "<Figure size 432x288 with 0 Axes>"
            ]
          },
          "metadata": {}
        },
        {
          "output_type": "display_data",
          "data": {
            "text/plain": [
              "<Figure size 288x288 with 1 Axes>"
            ],
            "image/png": "[encoded data removed]"
          },
          "metadata": {
            "needs_background": "light"
          }
        },
        {
          "output_type": "display_data",
          "data": {
            "text/plain": [
              "<Figure size 288x288 with 1 Axes>"
            ],
            "image/png": "[encoded data removed]"
          },
          "metadata": {
            "needs_background": "light"
          }
        },
        {
          "output_type": "display_data",
          "data": {
            "text/plain": [
              "<Figure size 288x288 with 1 Axes>"
            ],
            "image/png": "[encoded data removed]"
          },
          "metadata": {
            "needs_background": "light"
          }
        },
        {
          "output_type": "display_data",
          "data": {
            "text/plain": [
              "<Figure size 288x288 with 1 Axes>"
            ],
            "image/png": "[encoded data removed]"
          },
          "metadata": {
            "needs_background": "light"
          }
        }
      ],
      "source": [
        "plt.gray()\n",
        "for i in range(4):\n",
        "  plt.matshow(dig.images[i])"
      ]
    },
    {
      "cell_type": "code",
      "execution_count": null,
      "metadata": {
        "colab": {
          "base_uri": "https://localhost:8080/"
        },
        "id": "h1kPOAOeNJeT",
        "outputId": "e23bf769-59c4-442f-aef1-e76882b79538"
      },
      "outputs": [
        {
          "output_type": "execute_result",
          "data": {
            "text/plain": [
              "array([0, 1, 2, 3, 4, 5, 6, 7, 8, 9])"
            ]
          },
          "metadata": {},
          "execution_count": 6
        }
      ],
      "source": [
        "dig.target[0:10]"
      ]
    },
    {
      "cell_type": "code",
      "execution_count": null,
      "metadata": {
        "id": "vTDRZe3rNT-x"
      },
      "outputs": [],
      "source": [
        "from sklearn.model_selection import train_test_split\n"
      ]
    },
    {
      "cell_type": "code",
      "execution_count": null,
      "metadata": {
        "id": "VtKc26qcNeh_"
      },
      "outputs": [],
      "source": [
        "x_train,x_test,y_train,y_test=train_test_split(dig.data,dig.target,test_size=0.22,random_state=50)"
      ]
    },
    {
      "cell_type": "code",
      "execution_count": null,
      "metadata": {
        "colab": {
          "base_uri": "https://localhost:8080/"
        },
        "id": "ryWgdzBZN68L",
        "outputId": "0a205b26-09a2-40ea-e6e4-72e1d6036993"
      },
      "outputs": [
        {
          "output_type": "execute_result",
          "data": {
            "text/plain": [
              "array([[ 0.,  0.,  8., ...,  0.,  0.,  0.],\n",
              "       [ 0.,  0.,  0., ...,  0.,  0.,  0.],\n",
              "       [ 0.,  0.,  7., ...,  3.,  0.,  0.],\n",
              "       ...,\n",
              "       [ 0.,  0., 15., ...,  3.,  0.,  0.],\n",
              "       [ 0.,  0., 13., ..., 10.,  0.,  0.],\n",
              "       [ 0.,  0.,  8., ...,  0.,  0.,  0.]])"
            ]
          },
          "metadata": {},
          "execution_count": 9
        }
      ],
      "source": [
        "x_train"
      ]
    },
    {
      "cell_type": "code",
      "execution_count": null,
      "metadata": {
        "colab": {
          "base_uri": "https://localhost:8080/"
        },
        "id": "MG2FSaHKYbt4",
        "outputId": "68b7121e-964d-4611-d682-850ebe37011a"
      },
      "outputs": [
        {
          "output_type": "execute_result",
          "data": {
            "text/plain": [
              "1401"
            ]
          },
          "metadata": {},
          "execution_count": 10
        }
      ],
      "source": [
        "len(x_train)"
      ]
    },
    {
      "cell_type": "code",
      "execution_count": null,
      "metadata": {
        "colab": {
          "base_uri": "https://localhost:8080/"
        },
        "id": "qYaGt-aQPE5c",
        "outputId": "5a8651ed-5802-457d-80ec-e338e9a285d9"
      },
      "outputs": [
        {
          "output_type": "execute_result",
          "data": {
            "text/plain": [
              "array([[ 0.,  1., 10., ...,  9.,  0.,  0.],\n",
              "       [ 0.,  0.,  6., ...,  4.,  0.,  0.],\n",
              "       [ 0.,  0.,  9., ...,  0.,  0.,  0.],\n",
              "       ...,\n",
              "       [ 0.,  1.,  9., ..., 14.,  5.,  0.],\n",
              "       [ 0.,  0., 11., ...,  3.,  0.,  0.],\n",
              "       [ 0.,  0.,  4., ...,  8.,  0.,  0.]])"
            ]
          },
          "metadata": {},
          "execution_count": 11
        }
      ],
      "source": [
        "x_test"
      ]
    },
    {
      "cell_type": "code",
      "execution_count": null,
      "metadata": {
        "colab": {
          "base_uri": "https://localhost:8080/"
        },
        "id": "zK8YhgstYfrx",
        "outputId": "5418db77-6405-4ba7-cfe9-4fc90ffe248b"
      },
      "outputs": [
        {
          "output_type": "execute_result",
          "data": {
            "text/plain": [
              "396"
            ]
          },
          "metadata": {},
          "execution_count": 12
        }
      ],
      "source": [
        "len(x_test)"
      ]
    },
    {
      "cell_type": "code",
      "execution_count": null,
      "metadata": {
        "id": "s2I7lkSQPIaX"
      },
      "outputs": [],
      "source": [
        "from sklearn.linear_model import LogisticRegression\n",
        "fst = LogisticRegression(max_iter=10000)"
      ]
    },
    {
      "cell_type": "code",
      "execution_count": null,
      "metadata": {
        "id": "IxM6Fg2rPlMx",
        "colab": {
          "base_uri": "https://localhost:8080/"
        },
        "outputId": "fd373d3d-4f47-4d6c-ab8c-fa04af2c437e"
      },
      "outputs": [
        {
          "output_type": "execute_result",
          "data": {
            "text/plain": [
              "LogisticRegression(max_iter=10000)"
            ]
          },
          "metadata": {},
          "execution_count": 14
        }
      ],
      "source": [
        "fst.fit(x_train,y_train)\n"
      ]
    },
    {
      "cell_type": "code",
      "source": [
        "import pickle \n",
        "pickle_out = open(\"model.pkl\",\"wb\")\n",
        "pickle.dump(fst, pickle_out)\n",
        "pickle_out.close()\n",
        "\n"
      ],
      "metadata": {
        "id": "BMNBg-k4Eojo"
      },
      "execution_count": null,
      "outputs": []
    },
    {
      "cell_type": "code",
      "execution_count": null,
      "metadata": {
        "id": "pChG4dlFW5Xd",
        "colab": {
          "base_uri": "https://localhost:8080/"
        },
        "outputId": "de1530ac-6530-4e69-a592-4a3a49454895"
      },
      "outputs": [
        {
          "output_type": "execute_result",
          "data": {
            "text/plain": [
              "0.9696969696969697"
            ]
          },
          "metadata": {},
          "execution_count": 16
        }
      ],
      "source": [
        "fst.score(x_test,y_test)"
      ]
    },
    {
      "cell_type": "code",
      "execution_count": null,
      "metadata": {
        "colab": {
          "base_uri": "https://localhost:8080/",
          "height": 292
        },
        "id": "Db6ajkTcYrOM",
        "outputId": "b9626683-4d13-433e-df80-67a1dd159bc1"
      },
      "outputs": [
        {
          "output_type": "execute_result",
          "data": {
            "text/plain": [
              "<matplotlib.image.AxesImage at 0x7f9ea05d7940>"
            ]
          },
          "metadata": {},
          "execution_count": 17
        },
        {
          "output_type": "display_data",
          "data": {
            "text/plain": [
              "<Figure size 288x288 with 1 Axes>"
            ],
            "image/png": "[encoded data removed]"
          },
          "metadata": {
            "needs_background": "light"
          }
        }
      ],
      "source": [
        "plt.matshow(dig.images[56])"
      ]
    },
    {
      "cell_type": "code",
      "execution_count": null,
      "metadata": {
        "colab": {
          "base_uri": "https://localhost:8080/"
        },
        "id": "G4A44x72ZDm-",
        "outputId": "bc832559-5dd0-41cf-bc98-358e944154bf"
      },
      "outputs": [
        {
          "output_type": "execute_result",
          "data": {
            "text/plain": [
              "1"
            ]
          },
          "metadata": {},
          "execution_count": 18
        }
      ],
      "source": [
        "dig.target[56]"
      ]
    },
    {
      "cell_type": "code",
      "execution_count": null,
      "metadata": {
        "colab": {
          "base_uri": "https://localhost:8080/"
        },
        "id": "pks0DAlVZH4a",
        "outputId": "5c888641-250a-41b8-bf23-ae1e25664119"
      },
      "outputs": [
        {
          "output_type": "execute_result",
          "data": {
            "text/plain": [
              "array([1])"
            ]
          },
          "metadata": {},
          "execution_count": 19
        }
      ],
      "source": [
        "fst.predict([dig.data[56]])"
      ]
    },
    {
      "cell_type": "code",
      "execution_count": null,
      "metadata": {
        "colab": {
          "base_uri": "https://localhost:8080/"
        },
        "id": "A_SzXCbqZWux",
        "outputId": "598b4eeb-91e1-4ab3-ca51-9e2cecb5cb28"
      },
      "outputs": [
        {
          "output_type": "execute_result",
          "data": {
            "text/plain": [
              "array([0, 1, 2, 3, 4, 9, 6, 7, 8])"
            ]
          },
          "metadata": {},
          "execution_count": 20
        }
      ],
      "source": [
        "fst.predict(dig.data[0:9])"
      ]
    },
    {
      "cell_type": "code",
      "execution_count": null,
      "metadata": {
        "colab": {
          "base_uri": "https://localhost:8080/"
        },
        "id": "X9uQDS1waTjT",
        "outputId": "b8aae112-12af-42da-c962-d23575b2af98"
      },
      "outputs": [
        {
          "output_type": "execute_result",
          "data": {
            "text/plain": [
              "array([[47,  0,  0,  0,  0,  0,  0,  0,  0,  0],\n",
              "       [ 0, 42,  0,  0,  0,  0,  0,  0,  3,  0],\n",
              "       [ 0,  0, 46,  0,  0,  0,  0,  0,  0,  0],\n",
              "       [ 0,  0,  0, 31,  0,  1,  0,  0,  0,  1],\n",
              "       [ 0,  1,  0,  0, 32,  0,  0,  0,  0,  0],\n",
              "       [ 0,  0,  0,  1,  0, 34,  0,  0,  0,  2],\n",
              "       [ 0,  0,  0,  0,  0,  0, 43,  0,  0,  0],\n",
              "       [ 0,  0,  0,  0,  0,  0,  0, 36,  0,  1],\n",
              "       [ 0,  1,  1,  0,  0,  0,  0,  0, 30,  0],\n",
              "       [ 0,  0,  0,  0,  0,  0,  0,  0,  0, 43]])"
            ]
          },
          "metadata": {},
          "execution_count": 21
        }
      ],
      "source": [
        "y_pred=fst.predict(x_test)\n",
        "from sklearn.metrics import confusion_matrix\n",
        "\n",
        "confm= confusion_matrix(y_test, y_pred)\n",
        "confm"
      ]
    },
    {
      "cell_type": "code",
      "execution_count": null,
      "metadata": {
        "colab": {
          "base_uri": "https://localhost:8080/",
          "height": 405
        },
        "id": "6YE9LqbNbhsQ",
        "outputId": "6ffda3ab-9051-44d5-ac2b-5b3d2f8d0495"
      },
      "outputs": [
        {
          "output_type": "execute_result",
          "data": {
            "text/plain": [
              "Text(60.0, 0.5, 'prediction data')"
            ]
          },
          "metadata": {},
          "execution_count": 22
        },
        {
          "output_type": "display_data",
          "data": {
            "text/plain": [
              "<Figure size 648x432 with 2 Axes>"
            ],
            "image/png": "[encoded data removed]"
          },
          "metadata": {
            "needs_background": "light"
          }
        }
      ],
      "source": [
        "import seaborn as sb\n",
        "plt.figure(figsize=(9,6))\n",
        "sb.heatmap(confm,annot=True)\n",
        "plt.xlabel('Truth')\n",
        "plt.ylabel('prediction data')"
      ]
    },
    {
      "cell_type": "code",
      "execution_count": null,
      "metadata": {
        "colab": {
          "base_uri": "https://localhost:8080/",
          "height": 388
        },
        "id": "vS9EzQYRvWUn",
        "outputId": "9509e76b-c975-4965-9e12-a15e90a4f15a"
      },
      "outputs": [
        {
          "output_type": "display_data",
          "data": {
            "text/plain": [
              "<Figure size 648x432 with 2 Axes>"
            ],
            "image/png": "[encoded data removed]"
          },
          "metadata": {
            "needs_background": "light"
          }
        }
      ],
      "source": [
        "fig, ax = plt.subplots(figsize=(9,6))\n",
        "im = ax.imshow(confm, cmap='Greens')\n",
        "\n",
        "# add labels to the plot\n",
        "ax.set_xlabel('Truth')\n",
        "ax.set_ylabel('Prediction data')\n",
        "\n",
        "# create a colorbar\n",
        "cbar = ax.figure.colorbar(im)\n",
        "\n",
        "# add data values to the plot\n",
        "for i in range(len(confm)):\n",
        "    for j in range(len(confm[i])):\n",
        "        ax.text(j, i, confm[i][j], ha=\"center\", va=\"center\", color=\"black\")\n",
        "\n",
        "plt.show()"
      ]
    }
  ],
  "metadata": {
    "colab": {
      "provenance": [],
      "authorship_tag": "ABX9TyP8VFQVf/TS/NsfWr9yqCzK",
      "include_colab_link": true
    },
    "kernelspec": {
      "display_name": "Python 3",
      "name": "python3"
    },
    "language_info": {
      "name": "python"
    }
  },
  "nbformat": 4,
  "nbformat_minor": 0
}